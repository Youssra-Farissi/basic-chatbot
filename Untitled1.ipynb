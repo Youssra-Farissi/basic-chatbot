{
 "cells": [
  {
   "cell_type": "code",
   "execution_count": null,
   "id": "2b32ae78",
   "metadata": {},
   "outputs": [
    {
     "name": "stdout",
     "output_type": "stream",
     "text": [
      "List Trainer: [####################] 100%\n",
      "You: whats ur name\n",
      "Bot: For me, relationships are connections to other things. They're either there, or they aren't.\n",
      "You: how are you ?\n",
      "Bot: I am on the Internet.\n",
      "You: what's your name ?\n",
      "Bot: My name is MyChatBot.\n",
      "You: HOW ARE YOU ?\n",
      "Bot: I am on the Internet.\n",
      "You: CAN YOU TELL ME A JOKE ?\n",
      "Bot: Did you hear the one about the mountain goats in the andes? It was \"ba a a a a a d\".\n",
      "You: HHHHHHHHHH\n",
      "Bot: Is that a philosophical question?\n",
      "You: NO\n",
      "Bot: you need to work harder\n",
      "You: TELL ME ABOUT URSELF\n",
      "Bot: you get mad at me\n",
      "You: tell me about yourself\n",
      "Bot: I am a chatbot created using ChatterBot.\n"
     ]
    }
   ],
   "source": [
    "from chatterbot import ChatBot\n",
    "from chatterbot.trainers import ListTrainer\n",
    "\n",
    "# Create a new instance of ChatBot\n",
    "chatbot = ChatBot('MyChatBot')\n",
    "\n",
    "# Create a new trainer for the chatbot\n",
    "trainer = ListTrainer(chatbot)\n",
    "\n",
    "# Train the chatbot with custom data\n",
    "custom_training_data = [\n",
    "    \"What's your name?\",\n",
    "    \"My name is MyChatBot.\",\n",
    "    \"How are you?\",\n",
    "    \"I'm doing well, thank you!\",\n",
    "    \"Can you tell me a joke?\",\n",
    "    \"Sure! Why couldn't the bicycle stand up by itself? It was two-tired!\",\n",
    "    \"Tell me about yourself.\",\n",
    "    \"I am a chatbot created using ChatterBot.\"\n",
    "]\n",
    "\n",
    "# Train the chatbot with custom data\n",
    "trainer.train(custom_training_data)\n",
    "\n",
    "# Example interaction\n",
    "while True:\n",
    "    user_input = input(\"You: \")\n",
    "    response = chatbot.get_response(user_input)\n",
    "    print(\"Bot:\", response)\n"
   ]
  },
  {
   "cell_type": "code",
   "execution_count": null,
   "id": "54b1655b",
   "metadata": {},
   "outputs": [],
   "source": []
  }
 ],
 "metadata": {
  "kernelspec": {
   "display_name": "Python 3",
   "language": "python",
   "name": "python3"
  },
  "language_info": {
   "codemirror_mode": {
    "name": "ipython",
    "version": 3
   },
   "file_extension": ".py",
   "mimetype": "text/x-python",
   "name": "python",
   "nbconvert_exporter": "python",
   "pygments_lexer": "ipython3",
   "version": "3.6.13"
  }
 },
 "nbformat": 4,
 "nbformat_minor": 5
}
