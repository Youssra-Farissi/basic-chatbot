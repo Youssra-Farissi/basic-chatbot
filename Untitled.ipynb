{
 "cells": [
  {
   "cell_type": "code",
   "execution_count": 3,
   "id": "872e3b89",
   "metadata": {},
   "outputs": [
    {
     "ename": "AttributeError",
     "evalue": "'ChatBot' object has no attribute 'train'",
     "output_type": "error",
     "traceback": [
      "\u001b[1;31m---------------------------------------------------------------------------\u001b[0m",
      "\u001b[1;31mAttributeError\u001b[0m                            Traceback (most recent call last)",
      "\u001b[1;32m<ipython-input-3-5c9c66802720>\u001b[0m in \u001b[0;36m<module>\u001b[1;34m\u001b[0m\n\u001b[0;32m      3\u001b[0m \u001b[0mchatbot\u001b[0m \u001b[1;33m=\u001b[0m \u001b[0mChatBot\u001b[0m\u001b[1;33m(\u001b[0m\u001b[1;34m'MyChatBot'\u001b[0m\u001b[1;33m)\u001b[0m\u001b[1;33m\u001b[0m\u001b[1;33m\u001b[0m\u001b[0m\n\u001b[0;32m      4\u001b[0m \u001b[1;33m\u001b[0m\u001b[0m\n\u001b[1;32m----> 5\u001b[1;33m chatbot.train([\n\u001b[0m\u001b[0;32m      6\u001b[0m \u001b[1;34m\"How are you?\"\u001b[0m\u001b[1;33m,\u001b[0m\u001b[1;33m\u001b[0m\u001b[1;33m\u001b[0m\u001b[0m\n\u001b[0;32m      7\u001b[0m \u001b[1;34m\"I am fine.\"\u001b[0m\u001b[1;33m,\u001b[0m\u001b[1;33m\u001b[0m\u001b[1;33m\u001b[0m\u001b[0m\n",
      "\u001b[1;31mAttributeError\u001b[0m: 'ChatBot' object has no attribute 'train'"
     ]
    }
   ],
   "source": [
    "from chatterbot import ChatBot\n",
    "from chatterbot.trainers import ChatterBotCorpusTrainer\n",
    "chatbot = ChatBot('MyChatBot')\n",
    "\n",
    "chatbot.train([\n",
    "\"How are you?\",\n",
    "\"I am fine.\",\n",
    "\"What is your name?\",\n",
    "\"My name is ChatBot.\"\n",
    "])"
   ]
  },
  {
   "cell_type": "code",
   "execution_count": null,
   "id": "511b12d8",
   "metadata": {},
   "outputs": [
    {
     "name": "stdout",
     "output_type": "stream",
     "text": [
      "Training ai.yml: [####################] 100%\n",
      "Training botprofile.yml: [####################] 100%\n",
      "Training computers.yml: [####################] 100%\n",
      "Training conversations.yml: [####################] 100%\n",
      "Training emotion.yml: [####################] 100%\n",
      "Training food.yml: [####################] 100%\n",
      "Training gossip.yml: [####################] 100%\n",
      "Training greetings.yml: [####################] 100%\n",
      "Training health.yml: [####################] 100%\n",
      "Training history.yml: [####################] 100%\n",
      "Training humor.yml: [####################] 100%\n",
      "Training literature.yml: [####################] 100%\n",
      "Training money.yml: [####################] 100%\n",
      "Training movies.yml: [####################] 100%\n",
      "Training politics.yml: [####################] 100%\n",
      "Training psychology.yml: [####################] 100%\n",
      "Training science.yml: [####################] 100%\n",
      "Training sports.yml: [####################] 100%\n",
      "Training trivia.yml: [####################] 100%\n",
      "List Trainer: [####################] 100%\n",
      "You: hello\n",
      "Bot: Hi\n",
      "You: how are you !!\n",
      "Bot: Sort of.\n",
      "You: need help\n",
      "Bot: Sure, I can assist you with computer issues. What specific problem are you facing?\n",
      "You: ecron noire\n",
      "Bot: What is it like being a computer\n",
      "You: how can i ask support\n",
      "Bot: You can reach our support team via email at support@example.com or by phone at +1 (123) 456-7890.\n"
     ]
    }
   ],
   "source": [
    "from chatterbot import ChatBot\n",
    "from chatterbot.trainers import ChatterBotCorpusTrainer, ListTrainer\n",
    "from chatterbot.conversation import Statement\n",
    "\n",
    "# Create a new instance of ChatBot\n",
    "chatbot = ChatBot('MyChatBot')\n",
    "\n",
    "# Create a new trainer for the chatbot\n",
    "trainer = ChatterBotCorpusTrainer(chatbot)\n",
    "\n",
    "# Train the chatbot on English language corpus data\n",
    "trainer.train('chatterbot.corpus.english')\n",
    "\n",
    "# Create a ListTrainer for custom training\n",
    "list_trainer = ListTrainer(chatbot)\n",
    "\n",
    "# Train the chatbot with additional custom data\n",
    "custom_training_data = [\n",
    "    \"I need help with my computer.\",\n",
    "    \"Sure, I can assist you with computer issues. What specific problem are you facing?\",\n",
    "    \"How can I contact support?\",\n",
    "    \"You can reach our support team via email at support@example.com or by phone at +1 (123) 456-7890.\",\n",
    "    \"Can you provide me with some tips for improving productivity?\",\n",
    "    \"Of course! Here are a few tips: prioritize tasks, minimize distractions, and take regular breaks.\"\n",
    "]\n",
    "\n",
    "# Train the chatbot with custom data\n",
    "list_trainer.train(custom_training_data)\n",
    "\n",
    "# Example interaction\n",
    "while True:\n",
    "    user_input = input(\"You: \")\n",
    "\n",
    "    # Custom logic to handle specific conversation scenarios\n",
    "    if \"contact support\" in user_input:\n",
    "        response = \"You can reach our support team via email at support@example.com or by phone at +1 (123) 456-7890.\"\n",
    "    elif \"productivity\" in user_input:\n",
    "        response = \"Of course! Here are a few tips: prioritize tasks, minimize distractions, and take regular breaks.\"\n",
    "    else:\n",
    "        # Let the chatbot handle the response\n",
    "        response = chatbot.get_response(user_input)\n",
    "\n",
    "    print(\"Bot:\", response)\n"
   ]
  },
  {
   "cell_type": "code",
   "execution_count": null,
   "id": "e74ae82b",
   "metadata": {},
   "outputs": [],
   "source": [
    "from chatterbot import ChatBot\n",
    "from chatterbot.trainers import ListTrainer\n",
    "# Create a new instance of ChatBot\n",
    "chatbot = ChatBot('MyChatBot')\n",
    "# Create a new trainer for the chatbot\n",
    "trainer = ListTrainer(chatbot)\n",
    "\n",
    "# Train the chatbot with custom data\n",
    "custom_training_data = [\n",
    "\"What's your name?\",\n",
    "\"My name is MyChatBot.\",\n",
    "\"How are you?\",\n",
    "\"I'm doing well, thank you!\",\n",
    "\"Can you tell me a joke?\",\n",
    "\"Sure! Why couldn't the bicycle stand up by itself? It was\n",
    "two-tired!\",\n",
    "\"Tell me about yourself.\",\n",
    "\"I am a chatbot created using ChatterBot.\"\n",
    "]\n",
    "# Train the chatbot with custom data\n",
    "trainer.train(custom_training_data)\n",
    "# Example interaction\n",
    "while True:\n",
    "user_input = input(\"You: \")\n",
    "response = chatbot.get_response(user_input)\n",
    "print(\"Bot:\", response)"
   ]
  },
  {
   "cell_type": "code",
   "execution_count": null,
   "id": "12e92055",
   "metadata": {},
   "outputs": [],
   "source": []
  }
 ],
 "metadata": {
  "kernelspec": {
   "display_name": "Python 3",
   "language": "python",
   "name": "python3"
  },
  "language_info": {
   "codemirror_mode": {
    "name": "ipython",
    "version": 3
   },
   "file_extension": ".py",
   "mimetype": "text/x-python",
   "name": "python",
   "nbconvert_exporter": "python",
   "pygments_lexer": "ipython3",
   "version": "3.6.13"
  }
 },
 "nbformat": 4,
 "nbformat_minor": 5
}
